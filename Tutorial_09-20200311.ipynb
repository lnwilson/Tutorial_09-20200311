{
 "cells": [
  {
   "cell_type": "markdown",
   "metadata": {
    "editable": false
   },
   "source": [
    "# Tutorial 9: Confidence Intervals for One Proportion #"
   ]
  },
  {
   "cell_type": "markdown",
   "metadata": {
    "editable": false
   },
   "source": [
    "## Objectives: ##\n",
    "To become familiar with building and interpreting confidence intervals for one proportion and practice using the formula provided below."
   ]
  },
  {
   "cell_type": "markdown",
   "metadata": {
    "editable": false
   },
   "source": [
    "## Instructions: ##\n",
    "* Do NOT round any of the values unless your are explicitly told to do so in the question.\n",
    "* You can compute the required values using R as your calculator."
   ]
  },
  {
   "cell_type": "markdown",
   "metadata": {
    "editable": false
   },
   "source": [
    "## Formulae: ##\n",
    "A confidence interval is calculated by finding\n",
    "$$(point\\  \\  \\  estimate) \\pm z^*\\times SE$$\n",
    "\n",
    "Thus, the confidence interval for one proportion is calculated by finding\n",
    "$$ \\hat p \\pm z^* \\times\\sqrt{\\frac{\\hat p \\times (1-\\hat p)}{n}}$$"
   ]
  },
  {
   "cell_type": "markdown",
   "metadata": {
    "editable": false
   },
   "source": [
    "## Tools: ##\n",
    "If you would find it useful to have a graph to look at for one of these questions you can use the normalplot (defined below) just remember to run the code block for the normalplot. \n",
    "* Recall that to draw a normal curve with mean (m) and standard deviation (sd), that is shaded from min to max enter the command:\n",
    "  * `normalplot(m, sd, c(min, max))`\n",
    "* NOTE: You are not required to graph for any of this week's questions."
   ]
  },
  {
   "cell_type": "code",
   "execution_count": 6,
   "metadata": {
    "editable": false
   },
   "outputs": [],
   "source": [
    "normalplot<-function(m,sd,region=0){\n",
    "  x<-seq(m-(3.5)*sd,m+(3.5)*sd,length=1000)\n",
    "  y<-dnorm(x,m,sd)\n",
    "  plot(x,y,type=\"l\",xlab=\"\",ylab=\"\", bty=\"n\", yaxt=\"n\")\n",
    "  h <- dnorm(m,m,sd)\n",
    "  z<-x[x>region[1]]\n",
    "  z<-z[z<region[2]]\n",
    "  polygon(c(region[1],z,region[2]),\n",
    "          c(0,dnorm(z,m,sd),0),col=\"gray\")\n",
    "  abline(v=m)\n",
    "  abline(h=0)}"
   ]
  },
  {
   "cell_type": "markdown",
   "metadata": {
    "editable": false
   },
   "source": [
    "## Data Information: ##\n",
    "The data for this tutorial was inspired by two sources:\n",
    "* \"Canadian postsecondary enrolments and graduates, 2016/2017.\" Statistics Canada. 2018-11-28. https://www150.statcan.gc.ca/n1/daily-quotidien/181128/dq181128c-eng.htm.\n",
    "* \"The evolution of language populations in Canada, by mother tongue, from 1901 to 2016.\" Statistics Canada. 2018-02-21. https://www150.statcan.gc.ca/n1/pub/11-630-x/11-630-x2018001-eng.htm."
   ]
  },
  {
   "cell_type": "markdown",
   "metadata": {
    "editable": false
   },
   "source": [
    "## Question 1. Construct a Confidence Interval ##"
   ]
  },
  {
   "cell_type": "markdown",
   "metadata": {
    "editable": false
   },
   "source": [
    "Suppose a sample of students enrolled in Canadian universities yielded the following data\t\n",
    "\n",
    "<table>\t\t\t\t\n",
    "<tr><th>\tField of study\t</th><th>\t2016/2017\t</th></tr>\n",
    "<tr><td>\tPersonal improvement and leisure\t</td><td>\t3\t</td></tr>\n",
    "<tr><td>\tEducation\t</td><td>\t77\t</td></tr>\n",
    "<tr><td>\tVisual and performing arts, and communications technologies\t</td><td>\t41\t</td></tr>\n",
    "<tr><td>\tHumanities\t</td><td>\t159\t</td></tr>\n",
    "<tr><td>\tSocial and behavioural sciences, and law\t</td><td>\t225\t</td></tr>\n",
    "<tr><td>\tBusiness, management and public administration\t</td><td>\t262\t</td></tr>\n",
    "<tr><td>\tPhysical and life sciences, and technologies\t</td><td>\t136\t</td></tr>\n",
    "<tr><td>\tMathematics, computer and information sciences\t</td><td>\t55\t</td></tr>\n",
    "<tr><td>\tArchitecture, engineering and related technologies\t</td><td>\t136\t</td></tr>\n",
    "<tr><td>\tAgriculture, natural resources and conservation\t</td><td>\t23\t</td></tr>\n",
    "<tr><td>\tHealth and related fields\t</td><td>\t170\t</td></tr>\n",
    "<tr><td>\tPersonal, protective and transportation services\t</td><td>\t7\t</td></tr>\n",
    "<tr><td>\tOther fields of study\t</td><td>\t42\t</td></tr>\n",
    "<tr><th>\tTotal\t</th><th>\t1336\t</th></tr>\n",
    "</table>\t\t\t\t\n",
    "\n",
    "\n",
    "* a. What proportion of all the students in this survey reported their field of study to be mathematics, computer or information sciences?\n",
    "* b. To calculate a 95% confidence interval, $z^* = 1.96$. Find the 95% confidence interval for the proportion of students studying mathematics, computer and information science.\n",
    "* c. Write a sentence, including your 95% confidence interval, summarising the results of the study.\n",
    "* d. Explain why the 93% confidence interval will be narrower than the 95% confidence interval.\n",
    "* e. What value do you use for $z^*$ to create a 93% confidence interval (round to 2 decimal places). [You can use qnorm to find this value]\n",
    "* f. Find the 93% confidence interval for the proportion of students studying mathematics, computer and information science.\n",
    "* g. Write a sentence, including your 93% confidence interval, summarising the results of the study."
   ]
  },
  {
   "cell_type": "markdown",
   "metadata": {
    "editable": false
   },
   "source": [
    "### Answer 1.a. ##"
   ]
  },
  {
   "cell_type": "code",
   "execution_count": null,
   "metadata": {},
   "outputs": [],
   "source": [
    "Calculate the proportion."
   ]
  },
  {
   "cell_type": "markdown",
   "metadata": {
    "slideshow": {
     "slide_type": "slide"
    }
   },
   "source": [
    "Answer with a sentence."
   ]
  },
  {
   "cell_type": "markdown",
   "metadata": {
    "editable": false
   },
   "source": [
    "### Answer 1.b. ##"
   ]
  },
  {
   "cell_type": "code",
   "execution_count": null,
   "metadata": {},
   "outputs": [],
   "source": [
    "Calculate the lower limit."
   ]
  },
  {
   "cell_type": "code",
   "execution_count": null,
   "metadata": {},
   "outputs": [],
   "source": [
    "Calculate the upper limit."
   ]
  },
  {
   "cell_type": "markdown",
   "metadata": {
    "editable": false
   },
   "source": [
    "### Answer 1.c. ##"
   ]
  },
  {
   "cell_type": "markdown",
   "metadata": {},
   "source": [
    "Answer with a sentence."
   ]
  },
  {
   "cell_type": "markdown",
   "metadata": {
    "editable": false
   },
   "source": [
    "### Answer 1.d. ##"
   ]
  },
  {
   "cell_type": "markdown",
   "metadata": {},
   "source": [
    "Answer with a sentence."
   ]
  },
  {
   "cell_type": "markdown",
   "metadata": {
    "editable": false
   },
   "source": [
    "### Answer 1.e. ##"
   ]
  },
  {
   "cell_type": "code",
   "execution_count": null,
   "metadata": {},
   "outputs": [],
   "source": [
    "Calculate z*"
   ]
  },
  {
   "cell_type": "markdown",
   "metadata": {},
   "source": [
    "Answer with a sentence."
   ]
  },
  {
   "cell_type": "markdown",
   "metadata": {
    "editable": false
   },
   "source": [
    "### Answer 1.f. ##"
   ]
  },
  {
   "cell_type": "code",
   "execution_count": null,
   "metadata": {},
   "outputs": [],
   "source": [
    "Calculate the lower limit."
   ]
  },
  {
   "cell_type": "code",
   "execution_count": null,
   "metadata": {},
   "outputs": [],
   "source": [
    "Calculate the upper limit."
   ]
  },
  {
   "cell_type": "markdown",
   "metadata": {
    "editable": false
   },
   "source": [
    "### Answer 1.g. ##"
   ]
  },
  {
   "cell_type": "markdown",
   "metadata": {},
   "source": [
    "Answer with a sentence."
   ]
  },
  {
   "cell_type": "markdown",
   "metadata": {
    "editable": false
   },
   "source": [
    "## Question 2. Thinking critically about our results"
   ]
  },
  {
   "cell_type": "markdown",
   "metadata": {
    "editable": false
   },
   "source": [
    "<blockquote>Although their enumeration was certainly not complete, the 1901 Census counted close to 77,000 people whose mother tongue is an Aboriginal language, representing 1.4% of the population.<br>\n",
    "<cite>\"The evolution of language populations in Canada, by mother tongue, from 1901 to 2016.\" Statistics Canada. 2018-02-21. https://www150.statcan.gc.ca/n1/pub/11-630-x/11-630-x2018001-eng.htm.</cite></blockquote>\n",
    "\n",
    "Suppose that in 2015 a sample of 5,000 Canadians found that 0.6% identified their mother tongue as an Aboriginal language.\n",
    "\n",
    "* a. Create a 95% confidence interval for the true proportion of Canadians whose mother tongue was an Aboriginal language in 1901.\n",
    "* b. Why should we be cautious/skeptical of the interval we just computed?\n",
    "* c. Create a 95% confidence interval for the true proportion of Canadians whose mother tongue was an Aboriginal language in 2015.\n",
    "* d. What do the two confidence intervals tell you about the change in the proportion of Canadians whose mother tongue was an aboriginal language? What information would make you more confident in your assessment?"
   ]
  },
  {
   "cell_type": "markdown",
   "metadata": {
    "editable": false
   },
   "source": [
    "### Answer 2.a. ##"
   ]
  },
  {
   "cell_type": "code",
   "execution_count": null,
   "metadata": {},
   "outputs": [],
   "source": [
    "Calculate the lower limit."
   ]
  },
  {
   "cell_type": "code",
   "execution_count": null,
   "metadata": {},
   "outputs": [],
   "source": [
    "Calculate the upper limit."
   ]
  },
  {
   "cell_type": "markdown",
   "metadata": {
    "slideshow": {
     "slide_type": "slide"
    }
   },
   "source": [
    "Interpret the confidence interval. Answer with a sentence."
   ]
  },
  {
   "cell_type": "markdown",
   "metadata": {
    "editable": false
   },
   "source": [
    "### Answer 2.b. ##"
   ]
  },
  {
   "cell_type": "markdown",
   "metadata": {
    "slideshow": {
     "slide_type": "slide"
    }
   },
   "source": [
    "Answer with a sentence."
   ]
  },
  {
   "cell_type": "markdown",
   "metadata": {
    "editable": false
   },
   "source": [
    "### Answer 2.c. ##"
   ]
  },
  {
   "cell_type": "code",
   "execution_count": null,
   "metadata": {},
   "outputs": [],
   "source": [
    "Calculate the lower limit."
   ]
  },
  {
   "cell_type": "code",
   "execution_count": null,
   "metadata": {},
   "outputs": [],
   "source": [
    "Calculate the upper limit."
   ]
  },
  {
   "cell_type": "markdown",
   "metadata": {
    "slideshow": {
     "slide_type": "slide"
    }
   },
   "source": [
    "Interpret the confidence interval. Answer with a sentence."
   ]
  },
  {
   "cell_type": "markdown",
   "metadata": {
    "editable": false
   },
   "source": [
    "### Answer 2.d. ##"
   ]
  },
  {
   "cell_type": "markdown",
   "metadata": {
    "slideshow": {
     "slide_type": "slide"
    }
   },
   "source": [
    "Answer with a sentence."
   ]
  },
  {
   "cell_type": "markdown",
   "metadata": {
    "editable": false
   },
   "source": [
    "---\n",
    "---\n",
    "#### This tutorial is released under a Creative Commons Attribution-ShareAlike 3.0 Unported.\n",
    "\n",
    "This tutorial has been adapted from a lab that  was adapted for OpenIntro by Andrew Bray and Mine Çetinkaya-Rundel from a lab written by Mark Hansen of UCLA Statistics.\n",
    "\n",
    "---\n",
    "---"
   ]
  }
 ],
 "metadata": {
  "kernelspec": {
   "display_name": "R",
   "language": "R",
   "name": "ir"
  },
  "language_info": {
   "codemirror_mode": "r",
   "file_extension": ".r",
   "mimetype": "text/x-r-source",
   "name": "R",
   "pygments_lexer": "r",
   "version": "3.6.1"
  }
 },
 "nbformat": 4,
 "nbformat_minor": 2
}
